{
  "cells": [
    {
      "cell_type": "code",
      "execution_count": 1,
      "metadata": {
        "id": "MV-nNtD0kKsv"
      },
      "outputs": [],
      "source": [
        "#Import all the necessary libraries\n",
        "import pandas as pd\n",
        "import numpy as np\n",
        "import matplotlib.pyplot as plt"
      ]
    },
    {
      "cell_type": "markdown",
      "metadata": {
        "id": "ibi5UxSGkKsx"
      },
      "source": [
        "### I - Virat Kohli Dataset"
      ]
    },
    {
      "cell_type": "code",
      "execution_count": 2,
      "metadata": {
        "id": "Sc2oJ4Z4kKsz"
      },
      "outputs": [],
      "source": [
        "df = pd.read_csv(\"/content/virat.csv\")"
      ]
    },
    {
      "cell_type": "code",
      "execution_count": 3,
      "metadata": {
        "colab": {
          "base_uri": "https://localhost:8080/",
          "height": 206
        },
        "id": "ccm-vb8QkKsz",
        "outputId": "b7dab486-d6f8-4c26-c500-e87e9d2b8c49"
      },
      "outputs": [
        {
          "output_type": "execute_result",
          "data": {
            "text/plain": [
              "  Runs Mins  BF  4s  6s     SR  Pos Dismissal  Inns   Opposition  \\\n",
              "0   12   33  22   1   0  54.54    2       lbw     1  v Sri Lanka   \n",
              "1   37   82  67   6   0  55.22    2    caught     2  v Sri Lanka   \n",
              "2   25   40  38   4   0  65.78    1   run out     1  v Sri Lanka   \n",
              "3   54   87  66   7   0  81.81    1    bowled     1  v Sri Lanka   \n",
              "4   31   45  46   3   1  67.39    1       lbw     2  v Sri Lanka   \n",
              "\n",
              "          Ground Start Date  \n",
              "0       Dambulla  18-Aug-08  \n",
              "1       Dambulla  20-Aug-08  \n",
              "2  Colombo (RPS)  24-Aug-08  \n",
              "3  Colombo (RPS)  27-Aug-08  \n",
              "4  Colombo (RPS)  29-Aug-08  "
            ],
            "text/html": [
              "\n",
              "  <div id=\"df-072336f2-22ef-4ce8-aae0-a76a52d0d08e\">\n",
              "    <div class=\"colab-df-container\">\n",
              "      <div>\n",
              "<style scoped>\n",
              "    .dataframe tbody tr th:only-of-type {\n",
              "        vertical-align: middle;\n",
              "    }\n",
              "\n",
              "    .dataframe tbody tr th {\n",
              "        vertical-align: top;\n",
              "    }\n",
              "\n",
              "    .dataframe thead th {\n",
              "        text-align: right;\n",
              "    }\n",
              "</style>\n",
              "<table border=\"1\" class=\"dataframe\">\n",
              "  <thead>\n",
              "    <tr style=\"text-align: right;\">\n",
              "      <th></th>\n",
              "      <th>Runs</th>\n",
              "      <th>Mins</th>\n",
              "      <th>BF</th>\n",
              "      <th>4s</th>\n",
              "      <th>6s</th>\n",
              "      <th>SR</th>\n",
              "      <th>Pos</th>\n",
              "      <th>Dismissal</th>\n",
              "      <th>Inns</th>\n",
              "      <th>Opposition</th>\n",
              "      <th>Ground</th>\n",
              "      <th>Start Date</th>\n",
              "    </tr>\n",
              "  </thead>\n",
              "  <tbody>\n",
              "    <tr>\n",
              "      <th>0</th>\n",
              "      <td>12</td>\n",
              "      <td>33</td>\n",
              "      <td>22</td>\n",
              "      <td>1</td>\n",
              "      <td>0</td>\n",
              "      <td>54.54</td>\n",
              "      <td>2</td>\n",
              "      <td>lbw</td>\n",
              "      <td>1</td>\n",
              "      <td>v Sri Lanka</td>\n",
              "      <td>Dambulla</td>\n",
              "      <td>18-Aug-08</td>\n",
              "    </tr>\n",
              "    <tr>\n",
              "      <th>1</th>\n",
              "      <td>37</td>\n",
              "      <td>82</td>\n",
              "      <td>67</td>\n",
              "      <td>6</td>\n",
              "      <td>0</td>\n",
              "      <td>55.22</td>\n",
              "      <td>2</td>\n",
              "      <td>caught</td>\n",
              "      <td>2</td>\n",
              "      <td>v Sri Lanka</td>\n",
              "      <td>Dambulla</td>\n",
              "      <td>20-Aug-08</td>\n",
              "    </tr>\n",
              "    <tr>\n",
              "      <th>2</th>\n",
              "      <td>25</td>\n",
              "      <td>40</td>\n",
              "      <td>38</td>\n",
              "      <td>4</td>\n",
              "      <td>0</td>\n",
              "      <td>65.78</td>\n",
              "      <td>1</td>\n",
              "      <td>run out</td>\n",
              "      <td>1</td>\n",
              "      <td>v Sri Lanka</td>\n",
              "      <td>Colombo (RPS)</td>\n",
              "      <td>24-Aug-08</td>\n",
              "    </tr>\n",
              "    <tr>\n",
              "      <th>3</th>\n",
              "      <td>54</td>\n",
              "      <td>87</td>\n",
              "      <td>66</td>\n",
              "      <td>7</td>\n",
              "      <td>0</td>\n",
              "      <td>81.81</td>\n",
              "      <td>1</td>\n",
              "      <td>bowled</td>\n",
              "      <td>1</td>\n",
              "      <td>v Sri Lanka</td>\n",
              "      <td>Colombo (RPS)</td>\n",
              "      <td>27-Aug-08</td>\n",
              "    </tr>\n",
              "    <tr>\n",
              "      <th>4</th>\n",
              "      <td>31</td>\n",
              "      <td>45</td>\n",
              "      <td>46</td>\n",
              "      <td>3</td>\n",
              "      <td>1</td>\n",
              "      <td>67.39</td>\n",
              "      <td>1</td>\n",
              "      <td>lbw</td>\n",
              "      <td>2</td>\n",
              "      <td>v Sri Lanka</td>\n",
              "      <td>Colombo (RPS)</td>\n",
              "      <td>29-Aug-08</td>\n",
              "    </tr>\n",
              "  </tbody>\n",
              "</table>\n",
              "</div>\n",
              "      <button class=\"colab-df-convert\" onclick=\"convertToInteractive('df-072336f2-22ef-4ce8-aae0-a76a52d0d08e')\"\n",
              "              title=\"Convert this dataframe to an interactive table.\"\n",
              "              style=\"display:none;\">\n",
              "        \n",
              "  <svg xmlns=\"http://www.w3.org/2000/svg\" height=\"24px\"viewBox=\"0 0 24 24\"\n",
              "       width=\"24px\">\n",
              "    <path d=\"M0 0h24v24H0V0z\" fill=\"none\"/>\n",
              "    <path d=\"M18.56 5.44l.94 2.06.94-2.06 2.06-.94-2.06-.94-.94-2.06-.94 2.06-2.06.94zm-11 1L8.5 8.5l.94-2.06 2.06-.94-2.06-.94L8.5 2.5l-.94 2.06-2.06.94zm10 10l.94 2.06.94-2.06 2.06-.94-2.06-.94-.94-2.06-.94 2.06-2.06.94z\"/><path d=\"M17.41 7.96l-1.37-1.37c-.4-.4-.92-.59-1.43-.59-.52 0-1.04.2-1.43.59L10.3 9.45l-7.72 7.72c-.78.78-.78 2.05 0 2.83L4 21.41c.39.39.9.59 1.41.59.51 0 1.02-.2 1.41-.59l7.78-7.78 2.81-2.81c.8-.78.8-2.07 0-2.86zM5.41 20L4 18.59l7.72-7.72 1.47 1.35L5.41 20z\"/>\n",
              "  </svg>\n",
              "      </button>\n",
              "      \n",
              "  <style>\n",
              "    .colab-df-container {\n",
              "      display:flex;\n",
              "      flex-wrap:wrap;\n",
              "      gap: 12px;\n",
              "    }\n",
              "\n",
              "    .colab-df-convert {\n",
              "      background-color: #E8F0FE;\n",
              "      border: none;\n",
              "      border-radius: 50%;\n",
              "      cursor: pointer;\n",
              "      display: none;\n",
              "      fill: #1967D2;\n",
              "      height: 32px;\n",
              "      padding: 0 0 0 0;\n",
              "      width: 32px;\n",
              "    }\n",
              "\n",
              "    .colab-df-convert:hover {\n",
              "      background-color: #E2EBFA;\n",
              "      box-shadow: 0px 1px 2px rgba(60, 64, 67, 0.3), 0px 1px 3px 1px rgba(60, 64, 67, 0.15);\n",
              "      fill: #174EA6;\n",
              "    }\n",
              "\n",
              "    [theme=dark] .colab-df-convert {\n",
              "      background-color: #3B4455;\n",
              "      fill: #D2E3FC;\n",
              "    }\n",
              "\n",
              "    [theme=dark] .colab-df-convert:hover {\n",
              "      background-color: #434B5C;\n",
              "      box-shadow: 0px 1px 3px 1px rgba(0, 0, 0, 0.15);\n",
              "      filter: drop-shadow(0px 1px 2px rgba(0, 0, 0, 0.3));\n",
              "      fill: #FFFFFF;\n",
              "    }\n",
              "  </style>\n",
              "\n",
              "      <script>\n",
              "        const buttonEl =\n",
              "          document.querySelector('#df-072336f2-22ef-4ce8-aae0-a76a52d0d08e button.colab-df-convert');\n",
              "        buttonEl.style.display =\n",
              "          google.colab.kernel.accessAllowed ? 'block' : 'none';\n",
              "\n",
              "        async function convertToInteractive(key) {\n",
              "          const element = document.querySelector('#df-072336f2-22ef-4ce8-aae0-a76a52d0d08e');\n",
              "          const dataTable =\n",
              "            await google.colab.kernel.invokeFunction('convertToInteractive',\n",
              "                                                     [key], {});\n",
              "          if (!dataTable) return;\n",
              "\n",
              "          const docLinkHtml = 'Like what you see? Visit the ' +\n",
              "            '<a target=\"_blank\" href=https://colab.research.google.com/notebooks/data_table.ipynb>data table notebook</a>'\n",
              "            + ' to learn more about interactive tables.';\n",
              "          element.innerHTML = '';\n",
              "          dataTable['output_type'] = 'display_data';\n",
              "          await google.colab.output.renderOutput(dataTable, element);\n",
              "          const docLink = document.createElement('div');\n",
              "          docLink.innerHTML = docLinkHtml;\n",
              "          element.appendChild(docLink);\n",
              "        }\n",
              "      </script>\n",
              "    </div>\n",
              "  </div>\n",
              "  "
            ]
          },
          "metadata": {},
          "execution_count": 3
        }
      ],
      "source": [
        "df.head()"
      ]
    },
    {
      "cell_type": "markdown",
      "metadata": {
        "id": "gt0Ltt3lkKs0"
      },
      "source": [
        "#### Spread in Runs\n",
        "Question 1: Analyse the spread of Runs scored by Virat in all his matches and report the difference between the scores at the 50th percentile and the 25th percentile respectively.\n",
        "\n",
        "    a)16.5\n",
        "    b)22.5\n",
        "    c)26.5\n",
        "    d)32.5\n",
        "\n"
      ]
    },
    {
      "cell_type": "code",
      "source": [
        "df.Runs.value_counts()"
      ],
      "metadata": {
        "colab": {
          "base_uri": "https://localhost:8080/"
        },
        "id": "o70GntXMlfQo",
        "outputId": "a6af187c-20e5-44e9-c896-3142ce8601d9"
      },
      "execution_count": 11,
      "outputs": [
        {
          "output_type": "execute_result",
          "data": {
            "text/plain": [
              "0      10\n",
              "2       5\n",
              "12      4\n",
              "37      4\n",
              "1       4\n",
              "       ..\n",
              "77*     1\n",
              "26      1\n",
              "43      1\n",
              "64      1\n",
              "55      1\n",
              "Name: Runs, Length: 83, dtype: int64"
            ]
          },
          "metadata": {},
          "execution_count": 11
        }
      ]
    },
    {
      "cell_type": "code",
      "source": [
        "df.Runs.dtype"
      ],
      "metadata": {
        "colab": {
          "base_uri": "https://localhost:8080/"
        },
        "id": "oooRxnP7llxp",
        "outputId": "ea396f69-fd7a-4513-b1e3-739c60fb162e"
      },
      "execution_count": 9,
      "outputs": [
        {
          "output_type": "execute_result",
          "data": {
            "text/plain": [
              "dtype('O')"
            ]
          },
          "metadata": {},
          "execution_count": 9
        }
      ]
    },
    {
      "cell_type": "code",
      "source": [
        "df.Runs=df.Runs.apply(lambda x:x.replace('*',''))"
      ],
      "metadata": {
        "id": "-_RvpKkCl8JW"
      },
      "execution_count": 16,
      "outputs": []
    },
    {
      "cell_type": "code",
      "source": [
        "df.Runs=df.Runs.apply(lambda x:float(x))"
      ],
      "metadata": {
        "id": "YpDLlnJ9lpad"
      },
      "execution_count": 17,
      "outputs": []
    },
    {
      "cell_type": "code",
      "execution_count": 18,
      "metadata": {
        "colab": {
          "base_uri": "https://localhost:8080/"
        },
        "id": "D1J_8sA1kKs0",
        "outputId": "be908f62-70be-4661-9267-4f1888242770"
      },
      "outputs": [
        {
          "output_type": "execute_result",
          "data": {
            "text/plain": [
              "22.25"
            ]
          },
          "metadata": {},
          "execution_count": 18
        }
      ],
      "source": [
        "## Your code here\n",
        "df.Runs.quantile(0.5)-df.Runs.quantile(0.25)"
      ]
    },
    {
      "cell_type": "markdown",
      "metadata": {
        "id": "WNu8f1W3kKs0"
      },
      "source": [
        "#### Box Plots\n",
        "\n",
        "Question 2: Plot a Box Plot to analyse the spread of Runs that Virat has scored. The upper fence in the box plot lies in which interval?\n",
        "\n",
        "    a)100-120\n",
        "    b)120-140\n",
        "    c)140-160\n",
        "    d)160-180\n"
      ]
    },
    {
      "cell_type": "markdown",
      "source": [
        "Upper fence = Q 3 + 1.5 × IQR "
      ],
      "metadata": {
        "id": "lxSrVOtZnDKq"
      }
    },
    {
      "cell_type": "code",
      "source": [
        "IQR=df.Runs.quantile(0.75)-df.Runs.quantile(0.25)\n",
        "Upperfence=df.Runs.quantile(0.75)+1.5*IQR\n",
        "Upperfence"
      ],
      "metadata": {
        "colab": {
          "base_uri": "https://localhost:8080/"
        },
        "id": "YQGIBv06nCov",
        "outputId": "0553b55b-bc3b-485d-f929-695df9827b01"
      },
      "execution_count": 21,
      "outputs": [
        {
          "output_type": "execute_result",
          "data": {
            "text/plain": [
              "186.5"
            ]
          },
          "metadata": {},
          "execution_count": 21
        }
      ]
    },
    {
      "cell_type": "code",
      "execution_count": 19,
      "metadata": {
        "colab": {
          "base_uri": "https://localhost:8080/",
          "height": 267
        },
        "id": "De9ViFdKkKs1",
        "outputId": "e1723c7b-1e78-4a76-8533-fe7432dd6fea"
      },
      "outputs": [
        {
          "output_type": "display_data",
          "data": {
            "text/plain": [
              "<Figure size 432x288 with 1 Axes>"
            ],
            "image/png": "[encoded data removed]"
          },
          "metadata": {
            "needs_background": "light"
          }
        }
      ],
      "source": [
        "#Your code here\n",
        "plt.boxplot(df.Runs)\n",
        "plt.show()"
      ]
    },
    {
      "cell_type": "markdown",
      "metadata": {
        "id": "vGLRk7zikKs1"
      },
      "source": [
        "#### False Statement\n",
        "\n",
        "Q3:Consider the following statements and choose the correct option\n",
        "\n",
        "     I - Virat has played the maximum number of matches in 2011\n",
        "     II - Virat has the highest run average in the year 2017\n",
        "     III - Virat has the maximum score in a single match and the highest run average in the year 2016.\n",
        "\n",
        "Which of the above statements is/are false?\n",
        "\n",
        "    a)I and II\n",
        "    b)I and III\n",
        "    c)II\n",
        "    d)III\n",
        "\n"
      ]
    },
    {
      "cell_type": "code",
      "execution_count": 22,
      "metadata": {
        "colab": {
          "base_uri": "https://localhost:8080/"
        },
        "id": "uDUL5SNtkKs2",
        "outputId": "0fc812ff-8f64-4314-9ccb-79cb34eb0add"
      },
      "outputs": [
        {
          "output_type": "stream",
          "name": "stdout",
          "text": [
            "<class 'pandas.core.frame.DataFrame'>\n",
            "Int64Index: 130 entries, 0 to 131\n",
            "Data columns (total 13 columns):\n",
            " #   Column      Non-Null Count  Dtype         \n",
            "---  ------      --------------  -----         \n",
            " 0   Runs        130 non-null    float64       \n",
            " 1   Mins        130 non-null    object        \n",
            " 2   BF          130 non-null    int64         \n",
            " 3   4s          130 non-null    int64         \n",
            " 4   6s          130 non-null    int64         \n",
            " 5   SR          130 non-null    object        \n",
            " 6   Pos         130 non-null    int64         \n",
            " 7   Dismissal   130 non-null    object        \n",
            " 8   Inns        130 non-null    int64         \n",
            " 9   Opposition  130 non-null    object        \n",
            " 10  Ground      130 non-null    object        \n",
            " 11  Start Date  130 non-null    datetime64[ns]\n",
            " 12  year        130 non-null    int64         \n",
            "dtypes: datetime64[ns](1), float64(1), int64(6), object(5)\n",
            "memory usage: 14.2+ KB\n"
          ]
        }
      ],
      "source": [
        "## Your code here\n",
        "df[\"Start Date\"]= df[\"Start Date\"].astype('datetime64')\n",
        "df[\"year\"]=pd.DatetimeIndex(df[\"Start Date\"]).year\n",
        "df.info()"
      ]
    },
    {
      "cell_type": "code",
      "source": [
        "df.year.value_counts()"
      ],
      "metadata": {
        "colab": {
          "base_uri": "https://localhost:8080/"
        },
        "id": "DkTX-FvEy5Pz",
        "outputId": "ba0510c5-ee15-476c-c0d4-deb5cfc3a704"
      },
      "execution_count": 23,
      "outputs": [
        {
          "output_type": "execute_result",
          "data": {
            "text/plain": [
              "2011    31\n",
              "2013    22\n",
              "2014    17\n",
              "2010    16\n",
              "2012    11\n",
              "2015    10\n",
              "2016    10\n",
              "2008     5\n",
              "2009     5\n",
              "2017     3\n",
              "Name: year, dtype: int64"
            ]
          },
          "metadata": {},
          "execution_count": 23
        }
      ]
    },
    {
      "cell_type": "code",
      "source": [
        "pd.pivot_table(df, values='Runs',columns=['year'], aggfunc=np.mean)"
      ],
      "metadata": {
        "colab": {
          "base_uri": "https://localhost:8080/",
          "height": 81
        },
        "id": "ZuqPNO3yzHXy",
        "outputId": "b8a55798-a9d2-41a1-9f27-7ac827ddca67"
      },
      "execution_count": 25,
      "outputs": [
        {
          "output_type": "execute_result",
          "data": {
            "text/plain": [
              "year  2008  2009    2010  2011       2012  2013       2014  2015  2016  \\\n",
              "Runs  31.8  45.6  45.375  42.0  40.363636  46.5  58.529412  30.4  73.9   \n",
              "\n",
              "year       2017  \n",
              "Runs  61.666667  "
            ],
            "text/html": [
              "\n",
              "  <div id=\"df-0d709703-cf47-452a-97cf-b7a4fe9b83e6\">\n",
              "    <div class=\"colab-df-container\">\n",
              "      <div>\n",
              "<style scoped>\n",
              "    .dataframe tbody tr th:only-of-type {\n",
              "        vertical-align: middle;\n",
              "    }\n",
              "\n",
              "    .dataframe tbody tr th {\n",
              "        vertical-align: top;\n",
              "    }\n",
              "\n",
              "    .dataframe thead th {\n",
              "        text-align: right;\n",
              "    }\n",
              "</style>\n",
              "<table border=\"1\" class=\"dataframe\">\n",
              "  <thead>\n",
              "    <tr style=\"text-align: right;\">\n",
              "      <th>year</th>\n",
              "      <th>2008</th>\n",
              "      <th>2009</th>\n",
              "      <th>2010</th>\n",
              "      <th>2011</th>\n",
              "      <th>2012</th>\n",
              "      <th>2013</th>\n",
              "      <th>2014</th>\n",
              "      <th>2015</th>\n",
              "      <th>2016</th>\n",
              "      <th>2017</th>\n",
              "    </tr>\n",
              "  </thead>\n",
              "  <tbody>\n",
              "    <tr>\n",
              "      <th>Runs</th>\n",
              "      <td>31.8</td>\n",
              "      <td>45.6</td>\n",
              "      <td>45.375</td>\n",
              "      <td>42.0</td>\n",
              "      <td>40.363636</td>\n",
              "      <td>46.5</td>\n",
              "      <td>58.529412</td>\n",
              "      <td>30.4</td>\n",
              "      <td>73.9</td>\n",
              "      <td>61.666667</td>\n",
              "    </tr>\n",
              "  </tbody>\n",
              "</table>\n",
              "</div>\n",
              "      <button class=\"colab-df-convert\" onclick=\"convertToInteractive('df-0d709703-cf47-452a-97cf-b7a4fe9b83e6')\"\n",
              "              title=\"Convert this dataframe to an interactive table.\"\n",
              "              style=\"display:none;\">\n",
              "        \n",
              "  <svg xmlns=\"http://www.w3.org/2000/svg\" height=\"24px\"viewBox=\"0 0 24 24\"\n",
              "       width=\"24px\">\n",
              "    <path d=\"M0 0h24v24H0V0z\" fill=\"none\"/>\n",
              "    <path d=\"M18.56 5.44l.94 2.06.94-2.06 2.06-.94-2.06-.94-.94-2.06-.94 2.06-2.06.94zm-11 1L8.5 8.5l.94-2.06 2.06-.94-2.06-.94L8.5 2.5l-.94 2.06-2.06.94zm10 10l.94 2.06.94-2.06 2.06-.94-2.06-.94-.94-2.06-.94 2.06-2.06.94z\"/><path d=\"M17.41 7.96l-1.37-1.37c-.4-.4-.92-.59-1.43-.59-.52 0-1.04.2-1.43.59L10.3 9.45l-7.72 7.72c-.78.78-.78 2.05 0 2.83L4 21.41c.39.39.9.59 1.41.59.51 0 1.02-.2 1.41-.59l7.78-7.78 2.81-2.81c.8-.78.8-2.07 0-2.86zM5.41 20L4 18.59l7.72-7.72 1.47 1.35L5.41 20z\"/>\n",
              "  </svg>\n",
              "      </button>\n",
              "      \n",
              "  <style>\n",
              "    .colab-df-container {\n",
              "      display:flex;\n",
              "      flex-wrap:wrap;\n",
              "      gap: 12px;\n",
              "    }\n",
              "\n",
              "    .colab-df-convert {\n",
              "      background-color: #E8F0FE;\n",
              "      border: none;\n",
              "      border-radius: 50%;\n",
              "      cursor: pointer;\n",
              "      display: none;\n",
              "      fill: #1967D2;\n",
              "      height: 32px;\n",
              "      padding: 0 0 0 0;\n",
              "      width: 32px;\n",
              "    }\n",
              "\n",
              "    .colab-df-convert:hover {\n",
              "      background-color: #E2EBFA;\n",
              "      box-shadow: 0px 1px 2px rgba(60, 64, 67, 0.3), 0px 1px 3px 1px rgba(60, 64, 67, 0.15);\n",
              "      fill: #174EA6;\n",
              "    }\n",
              "\n",
              "    [theme=dark] .colab-df-convert {\n",
              "      background-color: #3B4455;\n",
              "      fill: #D2E3FC;\n",
              "    }\n",
              "\n",
              "    [theme=dark] .colab-df-convert:hover {\n",
              "      background-color: #434B5C;\n",
              "      box-shadow: 0px 1px 3px 1px rgba(0, 0, 0, 0.15);\n",
              "      filter: drop-shadow(0px 1px 2px rgba(0, 0, 0, 0.3));\n",
              "      fill: #FFFFFF;\n",
              "    }\n",
              "  </style>\n",
              "\n",
              "      <script>\n",
              "        const buttonEl =\n",
              "          document.querySelector('#df-0d709703-cf47-452a-97cf-b7a4fe9b83e6 button.colab-df-convert');\n",
              "        buttonEl.style.display =\n",
              "          google.colab.kernel.accessAllowed ? 'block' : 'none';\n",
              "\n",
              "        async function convertToInteractive(key) {\n",
              "          const element = document.querySelector('#df-0d709703-cf47-452a-97cf-b7a4fe9b83e6');\n",
              "          const dataTable =\n",
              "            await google.colab.kernel.invokeFunction('convertToInteractive',\n",
              "                                                     [key], {});\n",
              "          if (!dataTable) return;\n",
              "\n",
              "          const docLinkHtml = 'Like what you see? Visit the ' +\n",
              "            '<a target=\"_blank\" href=https://colab.research.google.com/notebooks/data_table.ipynb>data table notebook</a>'\n",
              "            + ' to learn more about interactive tables.';\n",
              "          element.innerHTML = '';\n",
              "          dataTable['output_type'] = 'display_data';\n",
              "          await google.colab.output.renderOutput(dataTable, element);\n",
              "          const docLink = document.createElement('div');\n",
              "          docLink.innerHTML = docLinkHtml;\n",
              "          element.appendChild(docLink);\n",
              "        }\n",
              "      </script>\n",
              "    </div>\n",
              "  </div>\n",
              "  "
            ]
          },
          "metadata": {},
          "execution_count": 25
        }
      ]
    },
    {
      "cell_type": "markdown",
      "metadata": {
        "id": "PmbcC5BrkKs2"
      },
      "source": [
        "#### Maximum Frequency\n",
        "\n",
        "Q4:Plot a histogram for the Mins column with 15 bins. Among the three ranges mentioned below, which one has the highest frequency?\n",
        "\n",
        "A - [54.6,68)\n",
        "\n",
        "B - [68,81.4)\n",
        "\n",
        "C - [121.6,135)\n",
        "\n",
        "    a)A - [54.6,68)\n",
        "    b)B - [68,81.4)\n",
        "    c)C - [121.6,135)\n",
        "    d)All the bin ranges have the same frequency\n"
      ]
    },
    {
      "cell_type": "code",
      "source": [
        "df.Mins.dtype"
      ],
      "metadata": {
        "colab": {
          "base_uri": "https://localhost:8080/"
        },
        "id": "L3qnbJ2Gz6_H",
        "outputId": "a236c7dd-5cdd-4de7-a3a8-e35e31c6e364"
      },
      "execution_count": 27,
      "outputs": [
        {
          "output_type": "execute_result",
          "data": {
            "text/plain": [
              "dtype('O')"
            ]
          },
          "metadata": {},
          "execution_count": 27
        }
      ]
    },
    {
      "cell_type": "code",
      "source": [
        "df.Mins.value_counts"
      ],
      "metadata": {
        "colab": {
          "base_uri": "https://localhost:8080/"
        },
        "id": "M05ioVhU0Ue-",
        "outputId": "2389ace2-5f89-4b0e-e169-4c1998604798"
      },
      "execution_count": 32,
      "outputs": [
        {
          "output_type": "execute_result",
          "data": {
            "text/plain": [
              "<bound method IndexOpsMixin.value_counts of 0       33\n",
              "1       82\n",
              "2       40\n",
              "3       87\n",
              "4       45\n",
              "      ... \n",
              "127     64\n",
              "128    152\n",
              "129    147\n",
              "130      6\n",
              "131     81\n",
              "Name: Mins, Length: 130, dtype: object>"
            ]
          },
          "metadata": {},
          "execution_count": 32
        }
      ]
    },
    {
      "cell_type": "markdown",
      "source": [
        "there is a record with Mins='-',we have to remove it"
      ],
      "metadata": {
        "id": "XEBjcyAR1WWB"
      }
    },
    {
      "cell_type": "code",
      "source": [
        "#df=df[df.Mins!='-'](run this line instead of below code)\n",
        "df=df[df.Mins!='']"
      ],
      "metadata": {
        "id": "fR-JGPAW0OtS"
      },
      "execution_count": 35,
      "outputs": []
    },
    {
      "cell_type": "code",
      "source": [
        "df.Mins=df.Mins.apply(lambda x:float(x))"
      ],
      "metadata": {
        "colab": {
          "base_uri": "https://localhost:8080/"
        },
        "id": "3kXpdm39z-YS",
        "outputId": "1498185e-2346-4398-d566-0b444aad20fc"
      },
      "execution_count": 36,
      "outputs": [
        {
          "output_type": "stream",
          "name": "stderr",
          "text": [
            "/usr/local/lib/python3.7/dist-packages/pandas/core/generic.py:5516: SettingWithCopyWarning: \n",
            "A value is trying to be set on a copy of a slice from a DataFrame.\n",
            "Try using .loc[row_indexer,col_indexer] = value instead\n",
            "\n",
            "See the caveats in the documentation: https://pandas.pydata.org/pandas-docs/stable/user_guide/indexing.html#returning-a-view-versus-a-copy\n",
            "  self[name] = value\n"
          ]
        }
      ]
    },
    {
      "cell_type": "code",
      "execution_count": 37,
      "metadata": {
        "colab": {
          "base_uri": "https://localhost:8080/",
          "height": 282
        },
        "id": "dnjqoqrEkKs2",
        "outputId": "c592dfa7-2fe7-45df-8607-0f85cc33b180"
      },
      "outputs": [
        {
          "output_type": "execute_result",
          "data": {
            "text/plain": [
              "<matplotlib.axes._subplots.AxesSubplot at 0x7f5fcdc00c50>"
            ]
          },
          "metadata": {},
          "execution_count": 37
        },
        {
          "output_type": "display_data",
          "data": {
            "text/plain": [
              "<Figure size 432x288 with 1 Axes>"
            ],
            "image/png": "[encoded data removed]"
          },
          "metadata": {
            "needs_background": "light"
          }
        }
      ],
      "source": [
        "#Your code here\n",
        "df[\"Mins\"].plot.hist(bins=1,range=[54.6,68])\n",
        "df[\"Mins\"].plot.hist(bins=1,range=[68,81.4])\n",
        "df[\"Mins\"].plot.hist(bins=1,range=[121.6,135])"
      ]
    },
    {
      "cell_type": "code",
      "source": [],
      "metadata": {
        "id": "ADbMGudYz3Ql"
      },
      "execution_count": null,
      "outputs": []
    }
  ],
  "metadata": {
    "kernelspec": {
      "display_name": "Python 3",
      "language": "python",
      "name": "python3"
    },
    "language_info": {
      "codemirror_mode": {
        "name": "ipython",
        "version": 3
      },
      "file_extension": ".py",
      "mimetype": "text/x-python",
      "name": "python",
      "nbconvert_exporter": "python",
      "pygments_lexer": "ipython3",
      "version": "3.7.3"
    },
    "colab": {
      "provenance": []
    }
  },
  "nbformat": 4,
  "nbformat_minor": 0
}